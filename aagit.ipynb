{
 "cells": [
  {
   "cell_type": "code",
   "execution_count": 1,
   "metadata": {},
   "outputs": [],
   "source": [
    "!git config --global user.name \"lyhue1991\"\n",
    "!git config --global user.email \"lyhue1991@163.com\"\n",
    "\n",
    "# 出现一些类似 warning: LF will be replaced by CRLF in <file-name>. 可启用如下设置。\n",
    "!git config --global core.autocrlf false\n",
    "\n",
    "# 配置打印历史commit的快捷命令\n",
    "!git config --global alias.lg \"log --oneline --graph --all\""
   ]
  },
  {
   "cell_type": "code",
   "execution_count": 2,
   "metadata": {},
   "outputs": [
    {
     "name": "stdout",
     "output_type": "stream",
     "text": [
      "Reinitialized existing Git repository in /Users/liangyun/CodeFiles/Python-Exercises-Daily/.git/\r\n"
     ]
    }
   ],
   "source": [
    "!git init"
   ]
  },
  {
   "cell_type": "code",
   "execution_count": 3,
   "metadata": {},
   "outputs": [],
   "source": [
    "!git add -A "
   ]
  },
  {
   "cell_type": "code",
   "execution_count": 4,
   "metadata": {},
   "outputs": [
    {
     "name": "stdout",
     "output_type": "stream",
     "text": [
      "[master 4c2bf88] v01\r\n",
      " 22 files changed, 13284 insertions(+), 1 deletion(-)\r\n",
      " create mode 100644 .ipynb_checkpoints/3小时Python入门-checkpoint.ipynb\r\n",
      " create mode 100644 .ipynb_checkpoints/aagit-checkpoint.ipynb\r\n",
      " create mode 100644 2019-06/.ipynb_checkpoints/2019-06-03：比较in查找的计算时间【容易】-checkpoint.ipynb\r\n",
      " create mode 100644 2019-06/.ipynb_checkpoints/2019-06-04：比较递归和循环的计算时间【容易】-checkpoint.ipynb\r\n",
      " create mode 100644 2019-06/.ipynb_checkpoints/2019-06-05：10级楼梯有多少种走法【容易】-checkpoint.ipynb\r\n",
      " create mode 100644 2019-06/.ipynb_checkpoints/2019-06-06：最大差值【中等】-checkpoint.ipynb\r\n",
      " create mode 100644 2019-06/.ipynb_checkpoints/2019-06-07：压平二维列表【简单】-checkpoint.ipynb\r\n",
      " create mode 100644 2019-06/.ipynb_checkpoints/2019-06-08：两数之和【简单】-checkpoint.ipynb\r\n",
      " create mode 100644 2019-06/.ipynb_checkpoints/2019-06-09：压平嵌套列表【中等】-checkpoint.ipynb\r\n",
      " create mode 100644 2019-06/.ipynb_checkpoints/2019-06-10：没有重复字符的最长子串【困难】-checkpoint.ipynb\r\n",
      " create mode 100644 2019-06/2019-06-03：比较in查找的计算时间【容易】.ipynb\r\n",
      " create mode 100644 2019-06/2019-06-04：比较递归和循环的计算时间【容易】.ipynb\r\n",
      " create mode 100644 2019-06/2019-06-05：10级楼梯有多少种走法【容易】.ipynb\r\n",
      " create mode 100644 2019-06/2019-06-06：最大差值【中等】.ipynb\r\n",
      " create mode 100644 2019-06/2019-06-07：压平二维列表【简单】.ipynb\r\n",
      " create mode 100644 2019-06/2019-06-08：两数之和【简单】.ipynb\r\n",
      " create mode 100644 2019-06/2019-06-09：压平嵌套列表【中等】.ipynb\r\n",
      " create mode 100644 2019-06/2019-06-10：没有重复字符的最长子串【困难】.ipynb\r\n",
      " create mode 100644 3小时Python入门.ipynb\r\n",
      " create mode 100644 Python与算法之美.jpg\r\n",
      " rewrite README.md (100%)\r\n",
      " create mode 100644 aagit.ipynb\r\n"
     ]
    }
   ],
   "source": [
    "!git commit -m\"v01\""
   ]
  },
  {
   "cell_type": "code",
   "execution_count": null,
   "metadata": {},
   "outputs": [],
   "source": []
  },
  {
   "cell_type": "code",
   "execution_count": 6,
   "metadata": {},
   "outputs": [],
   "source": [
    "!git remote remove origin"
   ]
  },
  {
   "cell_type": "code",
   "execution_count": 7,
   "metadata": {},
   "outputs": [],
   "source": [
    "!git remote add origin https://github.com/lyhue1991/Python-Exercises-Daily"
   ]
  },
  {
   "cell_type": "code",
   "execution_count": 8,
   "metadata": {},
   "outputs": [
    {
     "name": "stdout",
     "output_type": "stream",
     "text": [
      "fatal: invalid upstream 'origin/master'\r\n"
     ]
    }
   ],
   "source": [
    "!git rebase origin/master"
   ]
  },
  {
   "cell_type": "code",
   "execution_count": 9,
   "metadata": {},
   "outputs": [
    {
     "name": "stdout",
     "output_type": "stream",
     "text": [
      "Enumerating objects: 25, done.\n",
      "Counting objects: 100% (25/25), done.\n",
      "Delta compression using up to 4 threads\n",
      "Compressing objects: 100% (23/23), done.\n",
      "Writing objects: 100% (23/23), 33.75 KiB | 2.60 MiB/s, done.\n",
      "Total 23 (delta 14), reused 0 (delta 0)\n",
      "remote: Resolving deltas: 100% (14/14), done.\u001b[K\n",
      "To https://github.com/lyhue1991/Python-Exercises-Daily\n",
      "   ca54a46..4c2bf88  master -> master\n",
      "Branch 'master' set up to track remote branch 'master' from 'origin'.\n"
     ]
    }
   ],
   "source": [
    "!git push -u origin master "
   ]
  }
 ],
 "metadata": {
  "kernelspec": {
   "display_name": "Python 3",
   "language": "python",
   "name": "python3"
  },
  "language_info": {
   "codemirror_mode": {
    "name": "ipython",
    "version": 3
   },
   "file_extension": ".py",
   "mimetype": "text/x-python",
   "name": "python",
   "nbconvert_exporter": "python",
   "pygments_lexer": "ipython3",
   "version": "3.7.3"
  }
 },
 "nbformat": 4,
 "nbformat_minor": 2
}
