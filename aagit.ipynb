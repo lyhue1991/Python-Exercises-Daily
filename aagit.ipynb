{
 "cells": [
  {
   "cell_type": "code",
   "execution_count": 1,
   "metadata": {},
   "outputs": [],
   "source": [
    "!git config --global user.name \"lyhue1991\"\n",
    "!git config --global user.email \"lyhue1991@163.com\"\n",
    "\n",
    "# 出现一些类似 warning: LF will be replaced by CRLF in <file-name>. 可启用如下设置。\n",
    "!git config --global core.autocrlf false\n",
    "\n",
    "# 配置打印历史commit的快捷命令\n",
    "!git config --global alias.lg \"log --oneline --graph --all\""
   ]
  },
  {
   "cell_type": "code",
   "execution_count": 2,
   "metadata": {},
   "outputs": [
    {
     "name": "stdout",
     "output_type": "stream",
     "text": [
      "Reinitialized existing Git repository in /Users/liangyun/CodeFiles/Python-Exercises-Daily/.git/\r\n"
     ]
    }
   ],
   "source": [
    "!git init"
   ]
  },
  {
   "cell_type": "code",
   "execution_count": 13,
   "metadata": {},
   "outputs": [],
   "source": [
    "!git add -A "
   ]
  },
  {
   "cell_type": "code",
   "execution_count": 14,
   "metadata": {},
   "outputs": [
    {
     "name": "stdout",
     "output_type": "stream",
     "text": [
      "[master 86c04fb] v01\r\n",
      " 35 files changed, 8976 insertions(+), 64 deletions(-)\r\n",
      " rename 2019-06/.ipynb_checkpoints/{2019-06-03：比较in查找的计算时间【容易】-checkpoint.ipynb => 2019-06-03：比较in查找的计算时间【简单】-checkpoint.ipynb} (100%)\r\n",
      " rename 2019-06/.ipynb_checkpoints/{2019-06-04：比较递归和循环的计算时间【容易】-checkpoint.ipynb => 2019-06-04：比较递归和循环的计算时间【简单】-checkpoint.ipynb} (100%)\r\n",
      " rename 2019-06/.ipynb_checkpoints/{2019-06-05：10级楼梯有多少种走法【容易】-checkpoint.ipynb => 2019-06-05：10级楼梯有多少种走法【简单】-checkpoint.ipynb} (100%)\r\n",
      " rename 2019-06/{2019-06-03：比较in查找的计算时间【容易】.ipynb => 2019-06-03：比较in查找的计算时间【简单】.ipynb} (100%)\r\n",
      " rename 2019-06/{2019-06-04：比较递归和循环的计算时间【容易】.ipynb => 2019-06-04：比较递归和循环的计算时间【简单】.ipynb} (100%)\r\n",
      " rename 2019-06/{2019-06-05：10级楼梯有多少种走法【容易】.ipynb => 2019-06-05：10级楼梯有多少种走法【简单】.ipynb} (100%)\r\n",
      " create mode 100644 2019-07/.ipynb_checkpoints/2019-07-01：求2的平方根【中等】-checkpoint.ipynb\r\n",
      " create mode 100644 2019-07/.ipynb_checkpoints/2019-07-02：数组中是否存在a+b=c【简单】-checkpoint.ipynb\r\n",
      " create mode 100644 2019-07/.ipynb_checkpoints/2019-07-03：用Python实现堆排序算法【困难】-checkpoint.ipynb\r\n",
      " create mode 100644 2019-07/.ipynb_checkpoints/2019-07-04：生成杨辉三角【简单】-checkpoint.ipynb\r\n",
      " create mode 100644 2019-07/.ipynb_checkpoints/2019-07-05：连续出现3次以上的数字【简单】-checkpoint.ipynb\r\n",
      " create mode 100644 2019-07/.ipynb_checkpoints/2019-07-06：判断数组是否单调【简单】-checkpoint.ipynb\r\n",
      " create mode 100644 2019-07/.ipynb_checkpoints/2019-07-07：网站访问人数为100的概率【困难】-checkpoint.ipynb\r\n",
      " create mode 100644 2019-07/.ipynb_checkpoints/2019-07-08：跳跃游戏【中等】-checkpoint.ipynb\r\n",
      " create mode 100644 2019-07/.ipynb_checkpoints/2019-07-09：平均分在75分以上的班级【中等】-checkpoint.ipynb\r\n",
      " create mode 100644 2019-07/.ipynb_checkpoints/2019-07-10：wordcount词频统计【简单】-checkpoint.ipynb\r\n",
      " create mode 100644 2019-07/.ipynb_checkpoints/2019-07-11：判断字符串s是否由字典中的词构成【困难】-checkpoint.ipynb\r\n",
      " create mode 100644 2019-07/.ipynb_checkpoints/2019-07-12：判断两个字符串是否同构【中等】-checkpoint.ipynb\r\n",
      " create mode 100644 2019-07/.ipynb_checkpoints/2019-07-13：将字符串按照单词反转【简单】-checkpoint.ipynb\r\n",
      " create mode 100644 2019-07/2019-07-01：求2的平方根【中等】.ipynb\r\n",
      " create mode 100644 2019-07/2019-07-02：数组中是否存在a+b=c【简单】.ipynb\r\n",
      " create mode 100644 2019-07/2019-07-03：用Python实现堆排序算法【困难】.ipynb\r\n",
      " create mode 100644 2019-07/2019-07-04：生成杨辉三角【简单】.ipynb\r\n",
      " create mode 100644 2019-07/2019-07-05：连续出现3次以上的数字【简单】.ipynb\r\n",
      " create mode 100644 2019-07/2019-07-06：判断数组是否单调【简单】.ipynb\r\n",
      " create mode 100644 2019-07/2019-07-07：网站访问人数为100的概率【困难】.ipynb\r\n",
      " create mode 100644 2019-07/2019-07-08：跳跃游戏【中等】.ipynb\r\n",
      " create mode 100644 2019-07/2019-07-09：平均分在75分以上的班级【中等】.ipynb\r\n",
      " create mode 100644 2019-07/2019-07-10：wordcount词频统计【简单】.ipynb\r\n",
      " create mode 100644 2019-07/2019-07-11：判断字符串s是否由字典中的词构成【困难】.ipynb\r\n",
      " create mode 100644 2019-07/2019-07-12：判断两个字符串是否同构【中等】.ipynb\r\n",
      " create mode 100644 2019-07/2019-07-13：将字符串按照单词反转【简单】.ipynb\r\n",
      " create mode 100644 data/堆排序.gif\r\n"
     ]
    }
   ],
   "source": [
    "!git commit -m\"v01\""
   ]
  },
  {
   "cell_type": "code",
   "execution_count": null,
   "metadata": {},
   "outputs": [],
   "source": []
  },
  {
   "cell_type": "code",
   "execution_count": 6,
   "metadata": {},
   "outputs": [],
   "source": [
    "!git remote remove origin"
   ]
  },
  {
   "cell_type": "code",
   "execution_count": 7,
   "metadata": {},
   "outputs": [],
   "source": [
    "!git remote add origin https://github.com/lyhue1991/Python-Exercises-Daily"
   ]
  },
  {
   "cell_type": "code",
   "execution_count": 8,
   "metadata": {},
   "outputs": [
    {
     "name": "stdout",
     "output_type": "stream",
     "text": [
      "fatal: invalid upstream 'origin/master'\r\n"
     ]
    }
   ],
   "source": [
    "!git rebase origin/master"
   ]
  },
  {
   "cell_type": "code",
   "execution_count": 15,
   "metadata": {},
   "outputs": [
    {
     "name": "stdout",
     "output_type": "stream",
     "text": [
      "Enumerating objects: 31, done.\n",
      "Counting objects: 100% (31/31), done.\n",
      "Delta compression using up to 4 threads\n",
      "Compressing objects: 100% (25/25), done.\n",
      "Writing objects: 100% (26/26), 418.91 KiB | 13.09 MiB/s, done.\n",
      "Total 26 (delta 21), reused 0 (delta 0)\n",
      "remote: Resolving deltas: 100% (21/21), completed with 4 local objects.\u001b[K\n",
      "To https://github.com/lyhue1991/Python-Exercises-Daily\n",
      "   0399565..86c04fb  master -> master\n",
      "Branch 'master' set up to track remote branch 'master' from 'origin'.\n"
     ]
    }
   ],
   "source": [
    "!git push -u origin master "
   ]
  }
 ],
 "metadata": {
  "kernelspec": {
   "display_name": "Python 3",
   "language": "python",
   "name": "python3"
  },
  "language_info": {
   "codemirror_mode": {
    "name": "ipython",
    "version": 3
   },
   "file_extension": ".py",
   "mimetype": "text/x-python",
   "name": "python",
   "nbconvert_exporter": "python",
   "pygments_lexer": "ipython3",
   "version": "3.7.3"
  }
 },
 "nbformat": 4,
 "nbformat_minor": 2
}
